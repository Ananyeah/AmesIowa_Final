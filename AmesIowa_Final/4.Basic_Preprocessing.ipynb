{
 "cells": [
  {
   "cell_type": "code",
   "execution_count": 1,
   "metadata": {},
   "outputs": [
    {
     "ename": "SyntaxError",
     "evalue": "invalid syntax (<ipython-input-1-85595b5a23a9>, line 1)",
     "output_type": "error",
     "traceback": [
      "\u001b[0;36m  File \u001b[0;32m\"<ipython-input-1-85595b5a23a9>\"\u001b[0;36m, line \u001b[0;32m1\u001b[0m\n\u001b[0;31m    https://stackoverflow.com/questions/29528628/how-to-specify-a-variable-in-pandas-as-ordinal-categorical\u001b[0m\n\u001b[0m           ^\u001b[0m\n\u001b[0;31mSyntaxError\u001b[0m\u001b[0;31m:\u001b[0m invalid syntax\n"
     ]
    }
   ],
   "source": [
    "https://stackoverflow.com/questions/29528628/how-to-specify-a-variable-in-pandas-as-ordinal-categorical\n",
    "# What this says is use factorize to convert discrete to categoricals.\n",
    "# But use the custom mapper to convert ordinal to categorical, preserving the order\n",
    "# So basically everything gets converted to numeric, but we factorize discrete, and ordinal, \n",
    "# we makes dummies from nominal"
   ]
  },
  {
   "cell_type": "code",
   "execution_count": null,
   "metadata": {},
   "outputs": [],
   "source": [
    "import numpy as np\n",
    "import pandas as pd\n",
    "import pickle\n",
    "\n",
    "import matplotlib.pyplot as plt\n",
    "import seaborn as sns\n",
    "sns.set_style('darkgrid')\n",
    "%matplotlib inline\n",
    "from matplotlib.pylab import rcParams\n",
    "rcParams['figure.figsize'] = 10, 8\n",
    "rcParams.update({'font.size': 12})"
   ]
  },
  {
   "cell_type": "code",
   "execution_count": null,
   "metadata": {},
   "outputs": [],
   "source": [
    "#Changing discrete to categorical\n",
    "#Reading Data\n",
    "\n",
    "housing_df = pd.read_excel('Data/AmesHousing.xls', delimiter=r\"\\s+\")\n",
    "housing_df['Order'] = hous_df['Order'].astype('object')\n",
    "housing_df['Year Built'] = hous_df['Year Built'].astype('object')\n",
    "housing_df['Year Remod/Add'] = hous_df['Year Remod/Add'].astype('object')\n",
    "housing_df['Bsmt Full Bath'] = hous_df['Bsmt Full Bath'].astype('object')\n",
    "housing_df['Bsmt Half Bath'] = hous_df['Bsmt Half Bath'].astype('object')\n",
    "housing_df['Full Bath'] = hous_df['Full Bath'].astype('object')\n",
    "housing_df['Half Bath'] = hous_df['Half Bath'].astype('object')\n",
    "housing_df['Bedroom AbvGr'] = hous_df['Bedroom AbvGr'].astype('object')\n",
    "housing_df['Kitchen AbvGr'] = hous_df['Kitchen AbvGr'].astype('object')\n",
    "housing_df['TotRms AbvGrd'] = hous_df['TotRms AbvGrd'].astype('object')\n",
    "housing_df['Fireplaces'] = hous_df['Fireplaces'].astype('object')\n",
    "housing_df['Garage Yr Blt'] = hous_df['Garage Yr Blt'].astype('object')\n",
    "housing_df['Garage Cars'] = hous_df['Garage Cars'].astype('object')\n",
    "housing_df['Mo Sold'] = hous_df['Mo Sold'].astype('object')\n",
    "housing_df['Yr Sold'] = hous_df['Yr Sold'].astype('object')\n",
    "\n"
   ]
  },
  {
   "cell_type": "code",
   "execution_count": null,
   "metadata": {},
   "outputs": [],
   "source": [
    "housing_df[:5]"
   ]
  },
  {
   "cell_type": "code",
   "execution_count": null,
   "metadata": {},
   "outputs": [],
   "source": [
    "housing_df['SalePrice'].hist(bins=50, alpha=0.8)\n",
    "plt.axvline(housing_df['SalePrice'].mean(), color='r', linestyle='dashed', linewidth=2, label='Mean')\n",
    "plt.axvline(housing_df['SalePrice'].median(), color='orange', linestyle='dashed', linewidth=2, label='Median')\n",
    "plt.xlabel('SalePrice')\n",
    "plt.ylabel('Count')\n",
    "plt.legend()\n",
    "plt.show()"
   ]
  },
  {
   "cell_type": "code",
   "execution_count": null,
   "metadata": {},
   "outputs": [],
   "source": [
    "sns.boxplot(housing_df['SalePrice'], orient='h')\n",
    "plt.show()"
   ]
  },
  {
   "cell_type": "code",
   "execution_count": null,
   "metadata": {},
   "outputs": [],
   "source": [
    "housing_df['SalePrice'].describe()"
   ]
  },
  {
   "cell_type": "code",
   "execution_count": null,
   "metadata": {},
   "outputs": [],
   "source": [
    "# Create function to reject outliers, default stdev is 1.5\n",
    "def reject_outliers(data, m=1.5):\n",
    "    return data[abs(data - np.mean(data)) < m * np.std(data)]\n",
    "\n",
    "# Box plot showing the outliers gone away with m=1.5\n",
    "sns.boxplot(reject_outliers(housing_df['SalePrice']),\n",
    "            orient='h').set_title('Removing Outliers with 1.5 Standard Deviations')\n",
    "plt.show()"
   ]
  },
  {
   "cell_type": "code",
   "execution_count": null,
   "metadata": {},
   "outputs": [],
   "source": [
    "# Make series of mask\n",
    "mask = reject_outliers(housing_df['SalePrice']).tolist()\n",
    "mask[0:20]"
   ]
  },
  {
   "cell_type": "code",
   "execution_count": null,
   "metadata": {},
   "outputs": [],
   "source": [
    "# Mask as Boolean\n",
    "mask_results = housing_df['SalePrice'].isin(mask)[0:20].tolist()\n",
    "mask_results"
   ]
  },
  {
   "cell_type": "code",
   "execution_count": null,
   "metadata": {},
   "outputs": [],
   "source": [
    "outliers_dict = dict(zip(mask, mask_results))\n",
    "outliers_dict"
   ]
  },
  {
   "cell_type": "code",
   "execution_count": null,
   "metadata": {},
   "outputs": [],
   "source": [
    "housing_df = housing_df[~housing_df['SalePrice'].isin(mask) == False]\n",
    "housing_df.head(20)"
   ]
  },
  {
   "cell_type": "code",
   "execution_count": 2,
   "metadata": {},
   "outputs": [
    {
     "ename": "NameError",
     "evalue": "name 'housing_df' is not defined",
     "output_type": "error",
     "traceback": [
      "\u001b[0;31m---------------------------------------------------------------------------\u001b[0m",
      "\u001b[0;31mNameError\u001b[0m                                 Traceback (most recent call last)",
      "\u001b[0;32m<ipython-input-2-5d27298ef009>\u001b[0m in \u001b[0;36m<module>\u001b[0;34m()\u001b[0m\n\u001b[0;32m----> 1\u001b[0;31m \u001b[0mhousing_df\u001b[0m\u001b[0;34m[\u001b[0m\u001b[0;34m'SalePrice'\u001b[0m\u001b[0;34m]\u001b[0m\u001b[0;34m.\u001b[0m\u001b[0mdescribe\u001b[0m\u001b[0;34m(\u001b[0m\u001b[0;34m)\u001b[0m\u001b[0;34m\u001b[0m\u001b[0m\n\u001b[0m",
      "\u001b[0;31mNameError\u001b[0m: name 'housing_df' is not defined"
     ]
    }
   ],
   "source": [
    "housing_df['SalePrice'].describe()"
   ]
  },
  {
   "cell_type": "code",
   "execution_count": null,
   "metadata": {},
   "outputs": [],
   "source": [
    "# Columns with null (np.nan) values\n",
    "nan_col_list = housing_df.columns[housing_df.isnull().any()].tolist()\n",
    "nan_col_list"
   ]
  },
  {
   "cell_type": "code",
   "execution_count": null,
   "metadata": {},
   "outputs": [],
   "source": [
    "nulls = housing_df[nan_col_list].isnull().sum()\n",
    "nulls"
   ]
  },
  {
   "cell_type": "code",
   "execution_count": null,
   "metadata": {},
   "outputs": [],
   "source": [
    "nulls.plot(kind='barh', title='Null Values per Column')\n",
    "plt.show()"
   ]
  },
  {
   "cell_type": "code",
   "execution_count": null,
   "metadata": {},
   "outputs": [],
   "source": [
    "print('Missing data in each dataframe column:')\n",
    "for col in housing_df.columns:\n",
    "    missing_data = len(housing_df) - housing_df[col].count()\n",
    "    if (missing_data > 0 or missing_data =='NaN'):\n",
    "         print(col, ':', missing_data, 'missing values is', str(round(float(missing_data / float(len(housing_df))) * \n",
    "             100, 3)), '% of total')"
   ]
  },
  {
   "cell_type": "code",
   "execution_count": null,
   "metadata": {},
   "outputs": [],
   "source": [
    "col_na = ['Misc Feature',\n",
    "          'Fence',\n",
    "          'Pool QC',\n",
    "          'Garage Cond',\n",
    "          'Garage Qual',\n",
    "          'Garage Finish',\n",
    "          'Garage Type',\n",
    "          'Fireplace Qu',\n",
    "          'BsmtFin SF 1',\n",
    "          'BsmtFin SF 2',\n",
    "          'Bsmt Exposure',\n",
    "          'Alley']"
   ]
  },
  {
   "cell_type": "code",
   "execution_count": null,
   "metadata": {},
   "outputs": [],
   "source": [
    "housing_df[col_na] = housing_df[col_na].fillna('NA')\n",
    "print(housing_df.shape)\n",
    "housing_df.head()"
   ]
  },
  {
   "cell_type": "code",
   "execution_count": null,
   "metadata": {},
   "outputs": [],
   "source": [
    "# Function to make random distribution based on existing data\n",
    "def make_randoms(df, col):\n",
    "    return np.random.normal(df[col].mean(),\n",
    "                            scale=df[col].std(),\n",
    "                            size=df[col].isnull().sum()).astype(int)"
   ]
  },
  {
   "cell_type": "code",
   "execution_count": null,
   "metadata": {},
   "outputs": [],
   "source": [
    "# Use random number generator to create a series of numbers based on 'garage_yr_blt' statistics\n",
    "garage_yr_blt_rand = make_randoms(housing_df,'Garage Yr Blt')\n",
    "garage_yr_blt_rand"
   ]
  },
  {
   "cell_type": "code",
   "execution_count": null,
   "metadata": {},
   "outputs": [],
   "source": [
    "# Plot the random distribution of the 'garage_yr_blt' column\n",
    "plt.hist(garage_yr_blt_rand)\n",
    "plt.xlabel('garage_yr_blt')\n",
    "plt.ylabel('Frequency')\n",
    "plt.show()"
   ]
  },
  {
   "cell_type": "code",
   "execution_count": null,
   "metadata": {},
   "outputs": [],
   "source": [
    "# Use random number generator to create a series of numbers based on 'LotFrontage' statistics\n",
    "lot_frontage_rand = make_randoms(housing_df,'Lot Frontage')\n",
    "lot_frontage_rand"
   ]
  },
  {
   "cell_type": "code",
   "execution_count": null,
   "metadata": {},
   "outputs": [],
   "source": [
    "\n",
    "# Plot the random distribution of the 'LotFrontage' column\n",
    "plt.hist(lot_frontage_rand)\n",
    "plt.xlabel('Lot Frontage')\n",
    "plt.ylabel('Frequency')\n",
    "plt.show()"
   ]
  },
  {
   "cell_type": "code",
   "execution_count": null,
   "metadata": {},
   "outputs": [],
   "source": [
    "# Replace the NaNs with teh random data using this method because I don't\n",
    "# have enough fucking time to find a more efficient method\n",
    "housing_df['Lot Frontage'] = housing_df['Lot Frontage'].fillna('9999')\n",
    "housing_df['Garage Yr Blt'] = housing_df['Garage Yr Blt'].fillna('9999')\n",
    "housing_df.loc[housing_df['Lot Frontage']=='9999','Lot Frontage'] = lot_frontage_rand\n",
    "housing_df.loc[housing_df['Garage Yr Blt']=='9999','Garage Yr Blt'] = garage_yr_blt_rand\n",
    "\n",
    "# Drop the rest\n",
    "print('Before: ', housing_df.shape)\n",
    "housing_df = housing_df.dropna()\n",
    "print('After: ', housing_df.shape)\n",
    "Before:  (2673, 81)\n",
    "After:  (2578, 81)\n",
    "\n",
    "# Verify that all null values are gone\n",
    "nan_col_list = housing_df.columns[housing_df.isnull().any()].tolist()\n",
    "nan_col_list\n",
    "\n",
    "nan_col_list = housing_df.columns[housing_df.isnull().any()].tolist()\n",
    "nulls = housing_df[nan_col_list].isnull().sum()\n",
    "nulls\n",
    "\n",
    "\n",
    "\n",
    "housing_df.head(20)"
   ]
  },
  {
   "cell_type": "code",
   "execution_count": null,
   "metadata": {},
   "outputs": [],
   "source": [
    "# Re-index housing_df so indices match \n",
    "housing_df.reset_index(inplace=True)\n",
    "housing_df.head(20)\n",
    "housing_df.drop('index', axis=1, inplace=True)\n",
    "\n",
    "housing_df.drop('PID', axis=1, inplace=True)"
   ]
  },
  {
   "cell_type": "code",
   "execution_count": null,
   "metadata": {},
   "outputs": [],
   "source": [
    "cat_columns = hous_df.select_dtypes(include=[object]).columns.tolist()\n",
    "dummies_df = pd.get_dummies(housing_df[cat_columns],prefix_sep='_',drop_first=False)\n",
    "print(dummies_df.shape)\n",
    "dummies_df.head(20)"
   ]
  },
  {
   "cell_type": "code",
   "execution_count": null,
   "metadata": {},
   "outputs": [],
   "source": []
  }
 ],
 "metadata": {
  "kernelspec": {
   "display_name": "Python 3",
   "language": "python",
   "name": "python3"
  },
  "language_info": {
   "codemirror_mode": {
    "name": "ipython",
    "version": 3
   },
   "file_extension": ".py",
   "mimetype": "text/x-python",
   "name": "python",
   "nbconvert_exporter": "python",
   "pygments_lexer": "ipython3",
   "version": "3.6.4"
  }
 },
 "nbformat": 4,
 "nbformat_minor": 2
}
