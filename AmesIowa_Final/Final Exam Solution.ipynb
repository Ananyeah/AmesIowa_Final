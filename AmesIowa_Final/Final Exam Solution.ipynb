{
 "cells": [
  {
   "cell_type": "code",
   "execution_count": null,
   "metadata": {},
   "outputs": [],
   "source": [
    "# Final Project\n",
    "\n",
    "## Model Fitting on the Ames, Iowa Dataset\n",
    "\n",
    "1. fit a regression model using default settings with each of the following kinds of models:\n",
    "\n",
    "   - ridge regression\n",
    "   - lasso regression\n",
    "   - knn\n",
    "   - decision tree\n",
    "   - support vector machines\n",
    "\n",
    "2. Report your results. Discuss what your results tell you in terms of the underlying structure of the data. Remember that you can think about the ridge and lasso in terms of linearity, the decision tree and knn in terms of non-linearity, and knn and svm in terms of locality.\n",
    "3. Use a cross-validated grid search to refine three of the above models.\n",
    "4. Prepare a complexity curve for at least one attribute for each of the three models that you are tuning.\n",
    "5. (Optional) Use a principal component analysis on your original data* to create principal component features. Augment the original dataset with these principal component features and repeat steps 1 and 2.\n",
    "6. (Optional) Submit your results to Kaggle.\n",
    "\n",
    "* You can either do this on your scaled numerical data or if you use Gelman scaling, you should be able to perform a PCA on the numerical and one-hot encoded categorical data."
   ]
  }
 ],
 "metadata": {
  "kernelspec": {
   "display_name": "Python 3",
   "language": "python",
   "name": "python3"
  }
 },
 "nbformat": 4,
 "nbformat_minor": 2
}
